{
 "cells": [
  {
   "cell_type": "code",
   "execution_count": 30,
   "id": "7c3b0ff3-23c6-4926-9e4a-aea825df92ae",
   "metadata": {},
   "outputs": [],
   "source": [
    "import torch\n",
    "from torch.nn.functional import binary_cross_entropy_with_logits as bce_logits\n",
    "\n",
    "x = torch.ones(5)*2  # input tensor\n",
    "y = torch.zeros(3)  # expected output\n",
    "w = torch.randn(5, 3, requires_grad=True)\n",
    "b = torch.randn(3, requires_grad=True)\n",
    "z = torch.matmul(x, w) + b\n",
    "z_sum = z.sum()\n",
    "loss = bce_logits(z, y)"
   ]
  },
  {
   "cell_type": "code",
   "execution_count": 31,
   "id": "8c7ddffd-3a77-4bdc-9b90-ab66e446f34a",
   "metadata": {},
   "outputs": [
    {
     "data": {
      "text/plain": [
       "tensor(-10.1323, grad_fn=<SumBackward0>)"
      ]
     },
     "execution_count": 31,
     "metadata": {},
     "output_type": "execute_result"
    }
   ],
   "source": [
    "z_sum"
   ]
  },
  {
   "cell_type": "code",
   "execution_count": 32,
   "id": "b45314ac-9b24-454c-8d3b-58d55b1f8fcf",
   "metadata": {},
   "outputs": [],
   "source": [
    "z_sum.backward()"
   ]
  },
  {
   "cell_type": "code",
   "execution_count": 33,
   "id": "dbae01a0-03dd-458c-97c9-9a8f7dfded79",
   "metadata": {},
   "outputs": [
    {
     "data": {
      "text/plain": [
       "tensor([1., 1., 1.])"
      ]
     },
     "execution_count": 33,
     "metadata": {},
     "output_type": "execute_result"
    }
   ],
   "source": [
    "b.grad"
   ]
  },
  {
   "cell_type": "code",
   "execution_count": null,
   "id": "8e68b9a7-9bf5-4092-a90f-d2e89d6f95de",
   "metadata": {},
   "outputs": [],
   "source": []
  }
 ],
 "metadata": {
  "kernelspec": {
   "display_name": "Python 3 (ipykernel)",
   "language": "python",
   "name": "python3"
  },
  "language_info": {
   "codemirror_mode": {
    "name": "ipython",
    "version": 3
   },
   "file_extension": ".py",
   "mimetype": "text/x-python",
   "name": "python",
   "nbconvert_exporter": "python",
   "pygments_lexer": "ipython3",
   "version": "3.10.12"
  }
 },
 "nbformat": 4,
 "nbformat_minor": 5
}
